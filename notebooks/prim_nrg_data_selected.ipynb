{
 "cells": [
  {
   "cell_type": "markdown",
   "id": "25ebc5e3",
   "metadata": {},
   "source": [
    "## Share of primary energy from renewable sources\n",
    "\n",
    "+ [Data source](https://ourworldindata.org/grapher/renewable-share-energy)\n",
    "+ File: `renewable-share-energy`\n",
    "+ Format: `csv`\n",
    "+ [Definition](https://ec.europa.eu/eurostat/statistics-explained/index.php?title=Glossary:Primary_energy_consumption)"
   ]
  },
  {
   "cell_type": "code",
   "execution_count": 1,
   "id": "95c7b2a2",
   "metadata": {},
   "outputs": [],
   "source": [
    "import os\n",
    "import sys\n",
    "import numpy as np\n",
    "import json\n",
    "import pandas as pd\n",
    "\n",
    "# hack to be able to load modules from parent directory\n",
    "sys.path.insert(0, os.path.dirname(os.getcwd()))"
   ]
  },
  {
   "cell_type": "markdown",
   "id": "460c5c66",
   "metadata": {},
   "source": [
    "### 1. Load data"
   ]
  },
  {
   "cell_type": "code",
   "execution_count": 2,
   "id": "dda4fd5c",
   "metadata": {},
   "outputs": [],
   "source": [
    "prim_nrg_data = pd.read_csv('../data/renewable-share-energy.csv')"
   ]
  },
  {
   "cell_type": "code",
   "execution_count": 3,
   "id": "8fa05db3",
   "metadata": {},
   "outputs": [
    {
     "data": {
      "text/html": [
       "<div>\n",
       "<style scoped>\n",
       "    .dataframe tbody tr th:only-of-type {\n",
       "        vertical-align: middle;\n",
       "    }\n",
       "\n",
       "    .dataframe tbody tr th {\n",
       "        vertical-align: top;\n",
       "    }\n",
       "\n",
       "    .dataframe thead th {\n",
       "        text-align: right;\n",
       "    }\n",
       "</style>\n",
       "<table border=\"1\" class=\"dataframe\">\n",
       "  <thead>\n",
       "    <tr style=\"text-align: right;\">\n",
       "      <th></th>\n",
       "      <th>Entity</th>\n",
       "      <th>Code</th>\n",
       "      <th>Year</th>\n",
       "      <th>Renewables (% sub energy)</th>\n",
       "    </tr>\n",
       "  </thead>\n",
       "  <tbody>\n",
       "    <tr>\n",
       "      <th>0</th>\n",
       "      <td>Africa</td>\n",
       "      <td>NaN</td>\n",
       "      <td>1965</td>\n",
       "      <td>5.537</td>\n",
       "    </tr>\n",
       "    <tr>\n",
       "      <th>1</th>\n",
       "      <td>Africa</td>\n",
       "      <td>NaN</td>\n",
       "      <td>1966</td>\n",
       "      <td>5.873</td>\n",
       "    </tr>\n",
       "    <tr>\n",
       "      <th>2</th>\n",
       "      <td>Africa</td>\n",
       "      <td>NaN</td>\n",
       "      <td>1967</td>\n",
       "      <td>6.080</td>\n",
       "    </tr>\n",
       "    <tr>\n",
       "      <th>3</th>\n",
       "      <td>Africa</td>\n",
       "      <td>NaN</td>\n",
       "      <td>1968</td>\n",
       "      <td>6.743</td>\n",
       "    </tr>\n",
       "    <tr>\n",
       "      <th>4</th>\n",
       "      <td>Africa</td>\n",
       "      <td>NaN</td>\n",
       "      <td>1969</td>\n",
       "      <td>7.683</td>\n",
       "    </tr>\n",
       "  </tbody>\n",
       "</table>\n",
       "</div>"
      ],
      "text/plain": [
       "   Entity Code  Year  Renewables (% sub energy)\n",
       "0  Africa  NaN  1965                      5.537\n",
       "1  Africa  NaN  1966                      5.873\n",
       "2  Africa  NaN  1967                      6.080\n",
       "3  Africa  NaN  1968                      6.743\n",
       "4  Africa  NaN  1969                      7.683"
      ]
     },
     "execution_count": 3,
     "metadata": {},
     "output_type": "execute_result"
    }
   ],
   "source": [
    "prim_nrg_data.head()"
   ]
  },
  {
   "cell_type": "markdown",
   "id": "e3d72664",
   "metadata": {},
   "source": [
    "Rename columns:"
   ]
  },
  {
   "cell_type": "code",
   "execution_count": 4,
   "id": "a8c9d45e",
   "metadata": {},
   "outputs": [
    {
     "data": {
      "text/html": [
       "<div>\n",
       "<style scoped>\n",
       "    .dataframe tbody tr th:only-of-type {\n",
       "        vertical-align: middle;\n",
       "    }\n",
       "\n",
       "    .dataframe tbody tr th {\n",
       "        vertical-align: top;\n",
       "    }\n",
       "\n",
       "    .dataframe thead th {\n",
       "        text-align: right;\n",
       "    }\n",
       "</style>\n",
       "<table border=\"1\" class=\"dataframe\">\n",
       "  <thead>\n",
       "    <tr style=\"text-align: right;\">\n",
       "      <th></th>\n",
       "      <th>country</th>\n",
       "      <th>code</th>\n",
       "      <th>year</th>\n",
       "      <th>prim_nrg_share_renewables</th>\n",
       "    </tr>\n",
       "  </thead>\n",
       "  <tbody>\n",
       "    <tr>\n",
       "      <th>0</th>\n",
       "      <td>Africa</td>\n",
       "      <td>NaN</td>\n",
       "      <td>1965</td>\n",
       "      <td>5.537</td>\n",
       "    </tr>\n",
       "    <tr>\n",
       "      <th>1</th>\n",
       "      <td>Africa</td>\n",
       "      <td>NaN</td>\n",
       "      <td>1966</td>\n",
       "      <td>5.873</td>\n",
       "    </tr>\n",
       "    <tr>\n",
       "      <th>2</th>\n",
       "      <td>Africa</td>\n",
       "      <td>NaN</td>\n",
       "      <td>1967</td>\n",
       "      <td>6.080</td>\n",
       "    </tr>\n",
       "    <tr>\n",
       "      <th>3</th>\n",
       "      <td>Africa</td>\n",
       "      <td>NaN</td>\n",
       "      <td>1968</td>\n",
       "      <td>6.743</td>\n",
       "    </tr>\n",
       "    <tr>\n",
       "      <th>4</th>\n",
       "      <td>Africa</td>\n",
       "      <td>NaN</td>\n",
       "      <td>1969</td>\n",
       "      <td>7.683</td>\n",
       "    </tr>\n",
       "  </tbody>\n",
       "</table>\n",
       "</div>"
      ],
      "text/plain": [
       "  country code  year  prim_nrg_share_renewables\n",
       "0  Africa  NaN  1965                      5.537\n",
       "1  Africa  NaN  1966                      5.873\n",
       "2  Africa  NaN  1967                      6.080\n",
       "3  Africa  NaN  1968                      6.743\n",
       "4  Africa  NaN  1969                      7.683"
      ]
     },
     "execution_count": 4,
     "metadata": {},
     "output_type": "execute_result"
    }
   ],
   "source": [
    "old_names = list(prim_nrg_data.columns)\n",
    "new_names = ['country', 'code', 'year', 'prim_nrg_share_renewables']\n",
    "names_dict = dict(zip(old_names, new_names))\n",
    "prim_nrg_data.rename(columns=names_dict, inplace=True)\n",
    "prim_nrg_data.head()"
   ]
  },
  {
   "cell_type": "markdown",
   "id": "45529a53",
   "metadata": {},
   "source": [
    "---\n",
    "### 3. Filter data\n",
    "Select countries of intereset, based on availability of data in IEA Energy Technology RD&D Budgets data set:"
   ]
  },
  {
   "cell_type": "code",
   "execution_count": 5,
   "id": "b4053ff8",
   "metadata": {},
   "outputs": [],
   "source": [
    "# load json file containing selected countries as dict\n",
    "fpath = '../data/rdd_to_owid.json'\n",
    "with open(fpath, 'r') as file:\n",
    "    rdd_to_owid = json.load(file)"
   ]
  },
  {
   "cell_type": "code",
   "execution_count": 6,
   "id": "ad991437",
   "metadata": {},
   "outputs": [
    {
     "data": {
      "text/plain": [
       "{'Austria': 'Austria',\n",
       " 'Canada': 'Canada',\n",
       " 'Denmark': 'Denmark',\n",
       " 'Finland': 'Finland',\n",
       " 'France': 'France',\n",
       " 'Germany': 'Germany',\n",
       " 'Italy': 'Italy',\n",
       " 'Japan': 'Japan',\n",
       " 'Netherlands': 'Netherlands',\n",
       " 'New Zealand': 'New Zealand',\n",
       " 'Norway': 'Norway',\n",
       " 'Spain': 'Spain',\n",
       " 'Sweden': 'Sweden',\n",
       " 'Switzerland': 'Switzerland',\n",
       " 'United Kingdom': 'United Kingdom',\n",
       " 'United States': 'United States'}"
      ]
     },
     "execution_count": 6,
     "metadata": {},
     "output_type": "execute_result"
    }
   ],
   "source": [
    "rdd_to_owid"
   ]
  },
  {
   "cell_type": "code",
   "execution_count": 7,
   "id": "913dc37f",
   "metadata": {},
   "outputs": [],
   "source": [
    "# get list of selected countries\n",
    "selected = list(rdd_to_owid.values())"
   ]
  },
  {
   "cell_type": "code",
   "execution_count": 8,
   "id": "777d9b7f",
   "metadata": {},
   "outputs": [
    {
     "data": {
      "text/html": [
       "<div>\n",
       "<style scoped>\n",
       "    .dataframe tbody tr th:only-of-type {\n",
       "        vertical-align: middle;\n",
       "    }\n",
       "\n",
       "    .dataframe tbody tr th {\n",
       "        vertical-align: top;\n",
       "    }\n",
       "\n",
       "    .dataframe thead th {\n",
       "        text-align: right;\n",
       "    }\n",
       "</style>\n",
       "<table border=\"1\" class=\"dataframe\">\n",
       "  <thead>\n",
       "    <tr style=\"text-align: right;\">\n",
       "      <th></th>\n",
       "      <th>country</th>\n",
       "      <th>code</th>\n",
       "      <th>year</th>\n",
       "      <th>prim_nrg_share_renewables</th>\n",
       "    </tr>\n",
       "  </thead>\n",
       "  <tbody>\n",
       "    <tr>\n",
       "      <th>0</th>\n",
       "      <td>Austria</td>\n",
       "      <td>AUT</td>\n",
       "      <td>1965</td>\n",
       "      <td>23.940</td>\n",
       "    </tr>\n",
       "    <tr>\n",
       "      <th>1</th>\n",
       "      <td>Austria</td>\n",
       "      <td>AUT</td>\n",
       "      <td>1966</td>\n",
       "      <td>24.660</td>\n",
       "    </tr>\n",
       "    <tr>\n",
       "      <th>2</th>\n",
       "      <td>Austria</td>\n",
       "      <td>AUT</td>\n",
       "      <td>1967</td>\n",
       "      <td>24.931</td>\n",
       "    </tr>\n",
       "    <tr>\n",
       "      <th>3</th>\n",
       "      <td>Austria</td>\n",
       "      <td>AUT</td>\n",
       "      <td>1968</td>\n",
       "      <td>23.942</td>\n",
       "    </tr>\n",
       "    <tr>\n",
       "      <th>4</th>\n",
       "      <td>Austria</td>\n",
       "      <td>AUT</td>\n",
       "      <td>1969</td>\n",
       "      <td>21.212</td>\n",
       "    </tr>\n",
       "  </tbody>\n",
       "</table>\n",
       "</div>"
      ],
      "text/plain": [
       "   country code  year  prim_nrg_share_renewables\n",
       "0  Austria  AUT  1965                     23.940\n",
       "1  Austria  AUT  1966                     24.660\n",
       "2  Austria  AUT  1967                     24.931\n",
       "3  Austria  AUT  1968                     23.942\n",
       "4  Austria  AUT  1969                     21.212"
      ]
     },
     "execution_count": 8,
     "metadata": {},
     "output_type": "execute_result"
    }
   ],
   "source": [
    "# filter data by selected countries\n",
    "prim_nrg_data = prim_nrg_data[prim_nrg_data['country'].isin(selected)].reset_index(drop=True)\n",
    "prim_nrg_data.head()"
   ]
  },
  {
   "cell_type": "markdown",
   "id": "c99739c8",
   "metadata": {},
   "source": [
    "---\n",
    "### 3. Save data set"
   ]
  },
  {
   "cell_type": "code",
   "execution_count": 9,
   "id": "d293f051",
   "metadata": {},
   "outputs": [],
   "source": [
    "# save file in case it does not yet exist\n",
    "outpath = '../data/prim_nrg_data_selected.csv'\n",
    "if not os.path.exists(outpath):\n",
    "    prim_nrg_data.to_csv(outpath, index=False)"
   ]
  }
 ],
 "metadata": {
  "kernelspec": {
   "display_name": "Python 3 (ipykernel)",
   "language": "python",
   "name": "python3"
  },
  "language_info": {
   "codemirror_mode": {
    "name": "ipython",
    "version": 3
   },
   "file_extension": ".py",
   "mimetype": "text/x-python",
   "name": "python",
   "nbconvert_exporter": "python",
   "pygments_lexer": "ipython3",
   "version": "3.8.12"
  }
 },
 "nbformat": 4,
 "nbformat_minor": 5
}
